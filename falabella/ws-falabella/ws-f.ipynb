{
 "cells": [
  {
   "cell_type": "code",
   "execution_count": 2,
   "metadata": {},
   "outputs": [],
   "source": [
    "from selenium import webdriver\n",
    "from selenium.webdriver.common.by import By"
   ]
  },
  {
   "cell_type": "code",
   "execution_count": 4,
   "metadata": {},
   "outputs": [],
   "source": [
    "driver = webdriver.Chrome()\n",
    "driver.get(\"https://www.falabella.com.co/falabella-co/category/cat6360942/Tenis?facetSelected=true&f.derived.variant.sellerId=FALABELLA\")"
   ]
  },
  {
   "cell_type": "markdown",
   "metadata": {},
   "source": [
    "# Undersranding web page structure"
   ]
  },
  {
   "cell_type": "code",
   "execution_count": null,
   "metadata": {},
   "outputs": [],
   "source": [
    "# create a function to get the brands of the products\n",
    "def getproduct_brand():\n",
    "    brands = driver.find_elements(By.CLASS_NAME, \"title5\")\n",
    "    for brand in brands:\n",
    "        print(brand.text)\n",
    "\n",
    "print(getproduct_brand())"
   ]
  },
  {
   "cell_type": "code",
   "execution_count": null,
   "metadata": {},
   "outputs": [],
   "source": [
    "# create a function to get the names of the products\n",
    "def getproduct_name():\n",
    "    names = driver.find_elements(By.CLASS_NAME, \"pod-subTitle\")\n",
    "    for name in names:\n",
    "        print(name.text)\n",
    "        \n",
    "\n",
    "print(getproduct_name())\n"
   ]
  },
  {
   "cell_type": "code",
   "execution_count": null,
   "metadata": {},
   "outputs": [],
   "source": [
    "# getting price \n",
    "\n",
    "def getproduct_price():\n",
    "    prices = driver.find_elements(By.CLASS_NAME, \"prices-2_GRID\") \n",
    "    counter = 0\n",
    "    \n",
    "    for price in prices:\n",
    "        print(price.text)\n",
    "        # print product counter\n",
    "        counter += 1\n",
    "        print(f\"product {counter}\")\n",
    "        # select li elements\n",
    "        price_items = price.find_elements(By.TAG_NAME, \"li\")\n",
    "        # iterate over the li elements\n",
    "        \n",
    "        for item in price_items:\n",
    "\n",
    "            if item.get_attribute(\"data-cmr-price\"):\n",
    "                cmr_price = item.get_attribute(\"data-cmr-price\")\n",
    "                print(\"precio cmr:\" + cmr_price)\n",
    "            if item.get_attribute(\"data-event-price\"):\n",
    "                event_price = item.get_attribute(\"data-event-price\")\n",
    "                print(\"precio descuento:\" + event_price)\n",
    "            if item.get_attribute(\"data-normal-price\"):\n",
    "                full_price = item.get_attribute(\"data-normal-price\")\n",
    "                print(\"precio full:\" + full_price)       \n",
    "        if None in prices:\n",
    "            continue\n",
    "        \n",
    "        counter += 1\n",
    "    \n",
    "                    \n",
    "\n",
    "print(getproduct_price())"
   ]
  },
  {
   "cell_type": "markdown",
   "metadata": {},
   "source": [
    "### Sneakers detail information"
   ]
  },
  {
   "cell_type": "code",
   "execution_count": 24,
   "metadata": {},
   "outputs": [
    {
     "name": "stdout",
     "output_type": "stream",
     "text": [
      "https://www.falabella.com.co/falabella-co/category/cat6360942/Tenis?facetSelected=true&f.derived.variant.sellerId=FALABELLA\n"
     ]
    }
   ],
   "source": [
    "from selenium.webdriver.common.action_chains import ActionChains\n",
    "def getproduct_name_click():\n",
    "    names = driver.find_elements(By.CLASS_NAME, \"pod-subTitle\")\n",
    "    element = names[1]\n",
    "    actions = ActionChains(driver)\n",
    "    actions.move_to_element(element).click().perform()\n",
    "    return driver.current_url\n",
    "\n",
    "print(getproduct_name_click())"
   ]
  },
  {
   "cell_type": "markdown",
   "metadata": {},
   "source": [
    "### Initializing multiple drivers at the same time"
   ]
  },
  {
   "cell_type": "code",
   "execution_count": 13,
   "metadata": {},
   "outputs": [],
   "source": [
    "from threading import Thread"
   ]
  },
  {
   "cell_type": "code",
   "execution_count": 6,
   "metadata": {},
   "outputs": [
    {
     "name": "stdout",
     "output_type": "stream",
     "text": [
      "32\n"
     ]
    }
   ],
   "source": [
    "pages = driver.find_elements(By.CLASS_NAME, \"jsx-1389196899\")\n",
    "print(len(pages))"
   ]
  },
  {
   "cell_type": "code",
   "execution_count": null,
   "metadata": {},
   "outputs": [],
   "source": [
    "# lopk that the last part of the link is the page number\n",
    "# https://www.falabella.com.co/falabella-co/category/cat6360942/Tenis?f.derived.variant.sellerId=FALABELLA&facetSelected=true&page=2\n",
    "\n",
    "# list of links\n",
    "links = []\n",
    "# iterate over the pages\n",
    "for page in range(1, len(pages) + 1):\n",
    "    # get the link of the page\n",
    "    link = f\"https://www.falabella.com.co/falabella-co/category/cat6360942/Tenis?f.derived.variant.sellerId=FALABELLA&facetSelected=true&page={page}\"\n",
    "    print(link)\n",
    "    # apend the link to the list\n",
    "    links.append(link)\n",
    "    \n",
    "# print the list of links\n",
    "print(links)"
   ]
  },
  {
   "cell_type": "code",
   "execution_count": 4,
   "metadata": {},
   "outputs": [],
   "source": [
    "def test_website(url):\n",
    "    # Configura el webdriver de Selenium. Asegúrate de especificar la ubicación correcta de tu ChromeDriver si es necesario.\n",
    "    driver = webdriver.Chrome()\n",
    "    driver.get(url)\n",
    "    \n",
    "    # Aquí pondrías el resto de tu código para interactuar con la página.\n",
    "    print(f\"El título de {url} es: {driver.title}\")\n",
    "\n",
    "test_website()\n"
   ]
  },
  {
   "cell_type": "code",
   "execution_count": 14,
   "metadata": {},
   "outputs": [],
   "source": [
    "threads = []\n",
    "for link in links:\n",
    "    t = Thread(target=test_website, args=(link,))\n",
    "    threads.append(t)\n",
    "    t.start()\n",
    "    "
   ]
  }
 ],
 "metadata": {
  "kernelspec": {
   "display_name": "base",
   "language": "python",
   "name": "python3"
  },
  "language_info": {
   "codemirror_mode": {
    "name": "ipython",
    "version": 3
   },
   "file_extension": ".py",
   "mimetype": "text/x-python",
   "name": "python",
   "nbconvert_exporter": "python",
   "pygments_lexer": "ipython3",
   "version": "3.11.5"
  }
 },
 "nbformat": 4,
 "nbformat_minor": 2
}
